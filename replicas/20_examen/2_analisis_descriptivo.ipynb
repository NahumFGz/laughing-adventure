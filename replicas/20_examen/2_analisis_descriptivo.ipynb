{
 "cells": [
  {
   "cell_type": "markdown",
   "metadata": {},
   "source": [
    "## Análisis descriptivo"
   ]
  },
  {
   "cell_type": "code",
   "execution_count": 1,
   "metadata": {},
   "outputs": [],
   "source": [
    "import numpy as np\n",
    "import pandas as pd\n",
    "import seaborn as sns\n",
    "import matplotlib.pyplot as plt"
   ]
  },
  {
   "cell_type": "markdown",
   "metadata": {},
   "source": [
    "### 1. Leer los datos"
   ]
  },
  {
   "cell_type": "code",
   "execution_count": 2,
   "metadata": {},
   "outputs": [],
   "source": [
    "df = pd.read_parquet('./data/1_data_exploracion_datos.parquet')"
   ]
  },
  {
   "cell_type": "markdown",
   "metadata": {},
   "source": [
    "### 2. Explorar datos numéricos y categóricos"
   ]
  },
  {
   "cell_type": "code",
   "execution_count": 3,
   "metadata": {},
   "outputs": [],
   "source": [
    "binary_columns = []\n",
    "categorical_columns = []\n",
    "numeric_columns = []\n",
    "\n",
    "for column in df.columns:\n",
    "    if df[column].dtype == \"object\":\n",
    "        unique_values = df[column].nunique()\n",
    "        if unique_values == 2:\n",
    "            binary_columns.append(column)\n",
    "        else:\n",
    "            categorical_columns.append(column)\n",
    "    else:\n",
    "        numeric_columns.append(column)"
   ]
  },
  {
   "cell_type": "code",
   "execution_count": 4,
   "metadata": {},
   "outputs": [
    {
     "name": "stdout",
     "output_type": "stream",
     "text": [
      "Binary columns: ['DF_TYPE']\n",
      "Categorical columns: ['FBK_ULT6', 'FBK_ULT12', 'FBK_BEST6', 'FBK_BEST12', 'COD_SALA', 'FEC_LLAMADA', 'PROVINCIA', 'DEPARTAMENTO', 'SEGMENTO', 'RANGO_INGRESOS']\n",
      "Numeric columns: ['NUMPRIORIZACION', 'NC_DISTR12', 'TOTGEST6', 'TOTGEST12', 'IDGRUPO', 'DIAS_ACT', 'DIAS_BEST6', 'DIAS_ULT6', 'DIAS_BEST12', 'DIAS_ULT12', 'NC_CTD12', 'NC_DIAS6', 'NC_DIAS12', 'NC_CTD6', 'INGRESO_NETO_VIGENTE', 'INGRESO_BRUTO', 'TARGET']\n"
     ]
    }
   ],
   "source": [
    "print(f\"Binary columns: {binary_columns}\")\n",
    "print(f\"Categorical columns: {categorical_columns}\")\n",
    "print(f\"Numeric columns: {numeric_columns}\")"
   ]
  },
  {
   "cell_type": "markdown",
   "metadata": {},
   "source": [
    "### 3. Ver datos categórigos"
   ]
  },
  {
   "cell_type": "code",
   "execution_count": 5,
   "metadata": {},
   "outputs": [
    {
     "name": "stdout",
     "output_type": "stream",
     "text": [
      "FBK_ULT6: ['TLV' None 'IVR' 'COB']\n",
      "FBK_ULT12: ['TLV' None 'IVR' 'COB']\n",
      "FBK_BEST6: ['TLV' None 'IVR' 'COB']\n",
      "FBK_BEST12: ['TLV' None 'IVR' 'COB']\n",
      "COD_SALA: ['EC' 'PP' 'PA' 'NC' 'C' 'PRR' 'CD' 'CON' '2DA' 'UPG' 'IL' 'BPE' 'DIL'\n",
      " 'TC' None 'DEF']\n",
      "FEC_LLAMADA: ['2018-02-08' '2017-10-18' '2018-02-13' '2018-02-22' '2017-11-07'\n",
      " '2017-11-17' '2017-09-18' '2018-02-23' '2017-10-16' '2017-10-06'\n",
      " '2017-11-23' '2017-10-09' '2017-11-20' '2017-09-14' '2017-10-17'\n",
      " '2017-10-11' '2017-11-15' '2017-10-25' '2017-09-26' '2017-10-30'\n",
      " '2018-02-12' '2017-09-22' '2017-10-24' '2017-10-13' '2017-11-22'\n",
      " '2017-10-04' '2017-09-27' '2017-10-26' '2017-11-03' '2018-02-09'\n",
      " '2017-11-14' '2018-02-20' '2017-11-06' '2017-09-19' '2017-11-08'\n",
      " '2018-02-19' '2018-02-01' '2018-02-21' '2017-11-21' '2018-02-06'\n",
      " '2017-09-25' '2017-09-13' '2018-02-07' '2018-02-16' '2017-11-13'\n",
      " '2017-10-27' '2017-10-10' '2017-10-05' '2017-09-20' '2017-10-31'\n",
      " '2018-02-14' '2017-10-20' '2017-09-15' '2018-02-10' '2017-10-03'\n",
      " '2017-11-24' '2017-10-19' '2017-09-12' '2018-02-15' '2017-11-09'\n",
      " '2017-09-11' '2017-09-06' '2017-11-10' '2017-09-08' '2017-10-07'\n",
      " '2017-09-05' '2017-11-16' '2017-10-12' '2017-11-18' '2017-09-01'\n",
      " '2017-09-07' '2018-02-05' '2017-09-21' '2017-10-14' '2017-09-28'\n",
      " '2017-09-04' '2018-02-02' '2017-11-25' '2018-02-24' '2017-11-02'\n",
      " '2017-10-02' '2017-10-23' '2017-11-27' '2018-02-17' '2017-10-28'\n",
      " '2017-10-21' '2017-08-07' '2017-09-16' '2017-07-17' '2017-09-09'\n",
      " '2017-11-11' '2017-07-04' '2017-07-05' '2017-07-20' '2017-07-03'\n",
      " '2017-08-03' '2017-09-23' '2017-07-24' '2017-07-10' '2017-08-21'\n",
      " '2017-08-04' '2017-07-31' '2017-07-07' '2017-07-25' '2017-07-26'\n",
      " '2017-11-19' '2017-07-14' '2017-07-27' '2017-12-04' '2017-12-06'\n",
      " '2017-12-26' '2017-12-13' '2017-12-27' '2017-12-20' '2017-12-28'\n",
      " '2017-12-11' '2017-12-15' '2017-12-12' '2017-12-22' '2017-12-05'\n",
      " '2017-12-21' '2017-12-09' '2017-12-19' '2017-12-29' '2017-12-01'\n",
      " '2017-12-07' '2017-12-14' '2017-12-18' '2017-12-30' '2017-12-16'\n",
      " '2017-12-23']\n",
      "PROVINCIA: ['TACNA' 'LIMA' 'CUSCO' 'CAJAMARCA' 'AREQUIPA' 'TRUJILLO' 'CHICLAYO'\n",
      " 'PROV. CONST. DEL CALLAO' 'TUMBES' 'HUAMANGA' None 'CARHUAZ'\n",
      " 'MARISCAL NIETO' 'ABANCAY' 'HUANUCO' 'PASCO' 'NAZCA' 'PIURA' 'HUANCAYO'\n",
      " 'TAMBOPATA' 'SANTA' 'CAMANA' 'CALCA' 'PUNO' 'CHUPACA' 'SAN ROMAN' 'PISCO'\n",
      " 'BARRANCA' 'HUAURA' 'HUARAZ' 'CORONEL PORTILLO' 'ICA' 'TALARA'\n",
      " 'SAN MARTIN' 'HUAROCHIRI' 'CASMA' 'MOYOBAMBA' 'MAYNAS' 'PAITA' 'SULLANA'\n",
      " 'ILO' 'CHANCHAMAYO' 'LAMBAYEQUE' 'URUBAMBA' 'HUANCAVELICA' 'CHINCHA'\n",
      " 'BAGUA' 'HUARAL' 'TARMA' 'SATIPO' 'MELGAR' 'RIOJA' 'JAEN' 'PACASMAYO'\n",
      " 'VIRU' 'LAMPA' 'CAJABAMBA' 'MARISCAL LUZURIAGA' 'CAYLLOMA' 'ZARUMILLA'\n",
      " 'YAUYOS' 'BELLAVISTA' 'JUNIN' 'TOCACHE' 'JAUJA' 'CAA`ETE'\n",
      " 'GENERAL SANCHEZ CERRO' 'ASCOPE' 'ANDAHUAYLAS' 'BOLIVAR' 'LA CONVENCION'\n",
      " 'SECHURA' 'HUANTA' 'TAYACAJA' 'SAN MARCOS' 'RODRIGUEZ DE MENDOZA' 'PALPA'\n",
      " 'ALTO AMAZONAS' 'CHEPEN' 'HUACAYBAMBA' 'MORROPON' 'LEONCIO PRADO'\n",
      " 'EL COLLAO' 'HUAYTARA' 'YAULI' 'LAMAS' 'AMBO' 'CONCEPCION' 'HUANCANE'\n",
      " 'UTCUBAMBA' 'SAN PABLO' 'OXAPAMPA' 'COTABAMBAS' 'CANETE' 'CASTILLA'\n",
      " 'LUYA' 'QUISPICANCHI' 'AZANGARO' 'ISLAY' 'ACOMAYO' 'ESPINAR' 'CARAVELI'\n",
      " 'CHINCHEROS' 'SAN MIGUEL' 'MARISCAL CACERES' 'CHACHAPOYAS' 'FERREA`AFE'\n",
      " 'RECUAY' 'CONTRALMIRANTE VILLAR' 'ASUNCION' 'SAN ANTONIO DE PUTINA'\n",
      " 'HUALGAYOC' 'CANTA' 'CHOTA' 'PUERTO INCA' 'CUTERVO' 'PADRE ABAD' 'LORETO'\n",
      " 'OTUZCO' 'GRAU' 'YUNGAY' 'BONGARA' 'PICOTA' 'PATAZ' 'ANGARAES' 'CELENDIN'\n",
      " 'SANCHEZ CARRION' 'AYABACA' 'ANTA' 'LA MAR' 'CANCHIS' 'CANGALLO' 'MANU'\n",
      " 'TAHUAMANU' 'CONTUMAZA' 'FERRENAFE' 'HUANCABAMBA' 'PARURO' 'CHUCUITO'\n",
      " 'POMABAMBA' 'CAJATAMBO' 'TARATA' 'ANTABAMBA' 'CANDARAVE' 'JORGE BASADRE'\n",
      " 'HUARI' 'DOS DE MAYO' 'OYON' 'MARISCAL RAMON CASTILLA' 'HUARMEY' 'SIHUAS'\n",
      " 'HUANCA SANCOS' 'ATALAYA' 'SAN IGNACIO' 'HUAMALIES' 'YUNGUYO' 'HUALLAGA'\n",
      " 'HUAYLAS' 'ACOBAMBA' 'LA UNION' 'CASTROVIRREYNA' 'BOLOGNESI' 'AIJA'\n",
      " 'YAROWILCA' 'GRAN CHIMU' 'UCAYALI' 'MOHO' 'DANIEL ALCIDES CARRION'\n",
      " 'LUCANAS' 'CONDESUYOS' 'PACHITEA' 'CANAS' 'SANDIA'\n",
      " 'CARLOS FERMIN FITZCARRALD' 'REQUENA' 'PARINACOCHAS' 'CARABAYA'\n",
      " 'SANTA CRUZ' 'SANTIAGO DE CHUCO' 'VILCAS HUAMAN' 'ANTONIO RAYMONDI'\n",
      " 'AYMARAES' 'CHUMBIVILCAS' 'CONDORCANQUI' 'EL DORADO' 'VICTOR FAJARDO'\n",
      " 'DATEM DEL MARAA`ON' 'PAUCARTAMBO' 'LAURICOCHA' 'OCROS' 'PALLASCA'\n",
      " 'PURUS' 'SUCRE' 'JULCAN']\n",
      "DEPARTAMENTO: ['TACNA' 'LIMA' 'CUSCO' 'CAJAMARCA' 'AREQUIPA' 'LA LIBERTAD' 'LAMBAYEQUE'\n",
      " 'CALLAO' 'TUMBES' 'AYACUCHO' None 'ANCASH' 'MOQUEGUA' 'APURIMAC'\n",
      " 'HUANUCO' 'PASCO' 'ICA' 'PIURA' 'JUNIN' 'MADRE DE DIOS' 'PUNO' 'UCAYALI'\n",
      " 'SAN MARTIN' 'LORETO' 'HUANCAVELICA' 'AMAZONAS']\n",
      "SEGMENTO: ['2' '1BC' '3' '5' '4' '1A' None '6']\n",
      "RANGO_INGRESOS: ['Entre S/.4000-10000' 'Entre S/.1000-4000' 'Entre S/.600-1000'\n",
      " 'Mayor a S/.10000' 'Sin ingresos' 'Entre S/.0-600' None]\n"
     ]
    }
   ],
   "source": [
    "# Ver las categorías de las columnas categóricas\n",
    "for column in categorical_columns:\n",
    "    print(f\"{column}: {df[column].unique()}\")\n",
    "\n",
    "    "
   ]
  },
  {
   "cell_type": "code",
   "execution_count": null,
   "metadata": {},
   "outputs": [],
   "source": []
  },
  {
   "cell_type": "code",
   "execution_count": null,
   "metadata": {},
   "outputs": [],
   "source": []
  },
  {
   "cell_type": "code",
   "execution_count": null,
   "metadata": {},
   "outputs": [],
   "source": []
  },
  {
   "cell_type": "code",
   "execution_count": null,
   "metadata": {},
   "outputs": [],
   "source": []
  }
 ],
 "metadata": {
  "kernelspec": {
   "display_name": "venv_notebooks",
   "language": "python",
   "name": "python3"
  },
  "language_info": {
   "codemirror_mode": {
    "name": "ipython",
    "version": 3
   },
   "file_extension": ".py",
   "mimetype": "text/x-python",
   "name": "python",
   "nbconvert_exporter": "python",
   "pygments_lexer": "ipython3",
   "version": "3.9.6"
  }
 },
 "nbformat": 4,
 "nbformat_minor": 2
}
