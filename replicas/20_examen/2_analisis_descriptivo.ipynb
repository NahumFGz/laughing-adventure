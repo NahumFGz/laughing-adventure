{
 "cells": [
  {
   "cell_type": "markdown",
   "metadata": {},
   "source": [
    "## Análisis descriptivo"
   ]
  },
  {
   "cell_type": "code",
   "execution_count": 4,
   "metadata": {},
   "outputs": [],
   "source": [
    "import numpy as np\n",
    "import pandas as pd\n",
    "import seaborn as sns\n",
    "import matplotlib.pyplot as plt"
   ]
  },
  {
   "cell_type": "markdown",
   "metadata": {},
   "source": [
    "### 1. Leer los datos"
   ]
  },
  {
   "cell_type": "code",
   "execution_count": 3,
   "metadata": {},
   "outputs": [],
   "source": [
    "df = pd.read_parquet('./data/1_data_exploracion_datos.parquet')"
   ]
  },
  {
   "cell_type": "markdown",
   "metadata": {},
   "source": [
    "### 2. Explorar datos numéricos y categóricos"
   ]
  },
  {
   "cell_type": "code",
   "execution_count": 8,
   "metadata": {},
   "outputs": [],
   "source": [
    "binary_columns = []\n",
    "categorical_columns = []\n",
    "numeric_columns = []\n",
    "\n",
    "for column in df.columns:\n",
    "    if df[column].dtype == \"object\":\n",
    "        unique_values = df[column].nunique()\n",
    "        if unique_values == 2:\n",
    "            binary_columns.append(column)\n",
    "        else:\n",
    "            categorical_columns.append(column)\n",
    "    else:\n",
    "        numeric_columns.append(column)"
   ]
  },
  {
   "cell_type": "code",
   "execution_count": 10,
   "metadata": {},
   "outputs": [
    {
     "name": "stdout",
     "output_type": "stream",
     "text": [
      "Binary columns: ['DF_TYPE']\n",
      "Categorical columns: ['FBK_ULT6', 'FBK_ULT12', 'FBK_BEST6', 'FBK_BEST12', 'COD_SALA', 'FEC_LLAMADA', 'PROVINCIA', 'DEPARTAMENTO', 'SEGMENTO', 'RANGO_INGRESOS']\n",
      "Numeric columns: ['NUMPRIORIZACION', 'NC_DISTR12', 'TOTGEST6', 'TOTGEST12', 'IDGRUPO', 'DIAS_ACT', 'DIAS_BEST6', 'DIAS_ULT6', 'DIAS_BEST12', 'DIAS_ULT12', 'NC_CTD12', 'NC_DIAS6', 'NC_DIAS12', 'NC_CTD6', 'INGRESO_NETO_VIGENTE', 'INGRESO_BRUTO', 'TARGET']\n"
     ]
    }
   ],
   "source": [
    "print(f\"Binary columns: {binary_columns}\")\n",
    "print(f\"Categorical columns: {categorical_columns}\")\n",
    "print(f\"Numeric columns: {numeric_columns}\")"
   ]
  },
  {
   "cell_type": "code",
   "execution_count": null,
   "metadata": {},
   "outputs": [],
   "source": []
  },
  {
   "cell_type": "code",
   "execution_count": null,
   "metadata": {},
   "outputs": [],
   "source": []
  },
  {
   "cell_type": "code",
   "execution_count": null,
   "metadata": {},
   "outputs": [],
   "source": []
  },
  {
   "cell_type": "code",
   "execution_count": null,
   "metadata": {},
   "outputs": [],
   "source": []
  }
 ],
 "metadata": {
  "kernelspec": {
   "display_name": "venv_notebooks",
   "language": "python",
   "name": "python3"
  },
  "language_info": {
   "codemirror_mode": {
    "name": "ipython",
    "version": 3
   },
   "file_extension": ".py",
   "mimetype": "text/x-python",
   "name": "python",
   "nbconvert_exporter": "python",
   "pygments_lexer": "ipython3",
   "version": "3.9.6"
  }
 },
 "nbformat": 4,
 "nbformat_minor": 2
}
