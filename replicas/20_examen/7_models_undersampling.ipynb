{
 "cells": [
  {
   "cell_type": "code",
   "execution_count": null,
   "metadata": {},
   "outputs": [],
   "source": [
    "import time\n",
    "import itertools\n",
    "import numpy as np\n",
    "import pandas as pd\n",
    "import seaborn as sns\n",
    "from utils.balance_data import Oversampler\n",
    "from utils.base_models import BaseModels\n",
    "from utils.numerical_scalers import NumericalScalers\n",
    "from utils.categorical_encoders import CategoricalEncoders\n",
    "\n",
    "from sklearn.model_selection import train_test_split\n",
    "from sklearn.metrics import confusion_matrix, accuracy_score, classification_report, roc_auc_score, ConfusionMatrixDisplay\n",
    "\n",
    "import matplotlib.pyplot as plt\n",
    "\n",
    "import warnings\n",
    "warnings.filterwarnings('ignore')"
   ]
  },
  {
   "cell_type": "markdown",
   "metadata": {},
   "source": [
    "### 1. Leer datasets"
   ]
  },
  {
   "cell_type": "code",
   "execution_count": null,
   "metadata": {},
   "outputs": [],
   "source": [
    "# 1. Leer el dataset\n",
    "dataset = pd.read_parquet('./data/2_data_preprocesada.parquet')\n",
    "dataset = dataset.drop(columns=['DF_TYPE'])\n",
    "\n",
    "# Seleccionar aleatoriamente el 10% de los datos\n",
    "dataset = dataset.sample(frac=0.002, random_state=42)\n",
    "print(dataset.shape)\n",
    "print(dataset['TARGET'].value_counts())"
   ]
  },
  {
   "cell_type": "markdown",
   "metadata": {},
   "source": [
    "### 2. Generar combinaciones de categóricos y numéricos"
   ]
  },
  {
   "cell_type": "code",
   "execution_count": null,
   "metadata": {},
   "outputs": [],
   "source": [
    "# 2. Separar TARGET, df_categorical y df_numeric\n",
    "df_target = dataset['TARGET']\n",
    "df_categorical = dataset.select_dtypes(include=['object'])\n",
    "df_numeric = dataset.select_dtypes(include=['float64', 'int64'])\n",
    "\n",
    "# 3. Eliminar TARGET de df_numeric\n",
    "df_numeric = df_numeric.drop(columns=['TARGET'])"
   ]
  },
  {
   "cell_type": "code",
   "execution_count": null,
   "metadata": {},
   "outputs": [],
   "source": [
    "# 4. Generar las combinaciones de Encoder y Scaler\n",
    "encoder_methods = ['OneHotEncoder', 'OrdinalEncoder', 'BinaryEncoder', 'BackwardDifferenceEncoder']\n",
    "scaler_methods = ['StandardScaler', 'RobustScaler', 'Normalizer']\n",
    "\n",
    "# 5. Instanciar CategoricalEncoders\n",
    "categorical = CategoricalEncoders(dataset=df_categorical)\n",
    "binary_columns, categorical_columns = categorical.get_binary_categorical_columns()\n",
    "\n",
    "# 6. Instanciar NumericalScalers\n",
    "numerical = NumericalScalers(dataset=df_numeric)\n",
    "\n",
    "# 7. Generar todas las combinaciones de Encoder y Scaler\n",
    "def get_list_data_processed(encoder_methods, scaler_methods):\n",
    "    combinations = list(itertools.product(encoder_methods, scaler_methods))\n",
    "    \n",
    "    i=0\n",
    "    list_data_processed = []\n",
    "    for encoder_method, scaler_method in combinations:\n",
    "        data_encoded = categorical.provider(binary_columns, categorical_columns, method=encoder_method)\n",
    "        data_scaled = numerical.provider(method=scaler_method)\n",
    "\n",
    "        processed_data = pd.concat([data_encoded, data_scaled], axis=1)\n",
    "        list_data_processed.append((f'{encoder_method} - {scaler_method}', processed_data))\n",
    "        print(f'{str(i).zfill(2)} -> Encoder: {encoder_method} - Scaler: {scaler_method} - Shape: {processed_data.shape}')\n",
    "        i+=1\n",
    "    \n",
    "    return list_data_processed\n",
    "\n",
    "list_data_processed = get_list_data_processed(encoder_methods, scaler_methods)"
   ]
  },
  {
   "cell_type": "markdown",
   "metadata": {},
   "source": [
    "### 3. Split test-train y balanceo de cada dataset"
   ]
  },
  {
   "cell_type": "code",
   "execution_count": null,
   "metadata": {},
   "outputs": [],
   "source": [
    "# 4. Generar los conjuntos de entrenamiento y prueba\n",
    "def get_list_split_data(list_data_processed):\n",
    "    i=0\n",
    "    list_split_data = []\n",
    "    for encoded_scaler, data_processed in list_data_processed:\n",
    "        X = data_processed\n",
    "        y = df_target\n",
    "        \n",
    "        X_train, X_test, y_train, y_test = train_test_split(X, y, test_size=0.2, random_state=42, stratify=y)\n",
    "        list_split_data.append((encoded_scaler, X_train, X_test, y_train, y_test))\n",
    "        print(f'{str(i).zfill(2)} -> Split Encoded Scaler Method: {encoded_scaler}')\n",
    "        i+=1\n",
    "\n",
    "    return list_split_data\n",
    "\n",
    "list_data_encoded_split = get_list_split_data(list_data_processed)"
   ]
  },
  {
   "cell_type": "code",
   "execution_count": null,
   "metadata": {},
   "outputs": [],
   "source": [
    "# 5. Aplicar balanceo de clases a cada list_data_encoded\n",
    "oversampler = Oversampler()\n",
    "\n",
    "def get_list_data_encoded_balanced(list_data_encoded_split):\n",
    "    oversampler_methods = ['RandomOverSampler', 'SMOTE', 'BorderlineSMOTE', 'SVMSMOTE']\n",
    "    \n",
    "    i=0\n",
    "    list_data_encoded_balanced = []\n",
    "    for encoded_method, X_train, X_test, y_train, y_test in list_data_encoded_split:\n",
    "        for oversampler_method in oversampler_methods:\n",
    "            X_train_balanced, y_train_balanced = oversampler.provider(method=oversampler_method, X=X_train, y=y_train)\n",
    "            \n",
    "            list_data_encoded_balanced.append((encoded_method, \n",
    "                                               oversampler_method, \n",
    "                                               X_train_balanced, \n",
    "                                               X_test,\n",
    "                                               y_train_balanced,\n",
    "                                               y_test\n",
    "                                               ))\n",
    "            print(f'{str(i).zfill(2)}: Encoded method: {encoded_method} - Oversampler method: {oversampler_method} - Train shape: {X_train_balanced.shape} - Test shape: {X_test.shape}')\n",
    "            i += 1\n",
    "\n",
    "    return list_data_encoded_balanced\n",
    "\n",
    "# Aplicar el balanceo a los datos de entrenamiento\n",
    "list_data_encoded_split_balanced = get_list_data_encoded_balanced(list_data_encoded_split)"
   ]
  },
  {
   "cell_type": "markdown",
   "metadata": {},
   "source": [
    "### 4. Train models"
   ]
  },
  {
   "cell_type": "code",
   "execution_count": null,
   "metadata": {},
   "outputs": [],
   "source": [
    "# Inicializar BaseModels y definir los nombres de los modelos\n",
    "base_models = BaseModels()\n",
    "name_models = ['logistic_regression', 'decision_tree', 'lgbm', 'catboost', 'xgboost']\n",
    "\n",
    "# Iterar sobre los conjuntos de datos codificados y balanceados\n",
    "i = 0\n",
    "all_results = []\n",
    "for encoded_method, oversampler_method, X_train, X_test, y_train, y_test in list_data_encoded_split_balanced:\n",
    "    for name in name_models:\n",
    "        model = base_models.provider(name)\n",
    "        \n",
    "        start_time = time.time()\n",
    "        model.fit(X_train, y_train)\n",
    "        end_time = time.time()\n",
    "        \n",
    "        elapsed_time = end_time - start_time\n",
    "        \n",
    "        predict_train = model.predict_proba(X_train)[:, 1]\n",
    "        predict_test = model.predict_proba(X_test)[:, 1]\n",
    "        predict_test_class = model.predict(X_test)\n",
    "\n",
    "        train_auc = roc_auc_score(y_train, predict_train)\n",
    "        test_auc = roc_auc_score(y_test, predict_test)\n",
    "\n",
    "        all_results.append((encoded_method, oversampler_method, name, train_auc, test_auc, y_test, predict_test, predict_test_class))\n",
    "\n",
    "        print(f'{str(i).zfill(2)} -> Model: {name}')\n",
    "        print(f\"Encoded Method: {encoded_method} - Oversampler Method: {oversampler_method} - AUC on training data with {name}: {train_auc:.3f}\")\n",
    "        print(f\"AUC on testing data with {name}: {test_auc:.3f}\")\n",
    "        print(f\"Training time for {name}: {elapsed_time:.3f} seconds\\n\")\n",
    "        i += 1"
   ]
  },
  {
   "cell_type": "markdown",
   "metadata": {},
   "source": [
    "### 5. Plot results"
   ]
  },
  {
   "cell_type": "code",
   "execution_count": null,
   "metadata": {},
   "outputs": [],
   "source": [
    "import matplotlib.pyplot as plt\n",
    "from sklearn.metrics import accuracy_score, confusion_matrix\n",
    "\n",
    "# Consolidar todos los resultados en una lista\n",
    "consolidated_results = []\n",
    "for encoded_method, oversampler_method, name, train_auc, test_auc, y_test, predict_test, predict_test_class in all_results:\n",
    "    full_model_name = f\"{encoded_method} - {oversampler_method} - {name}\"\n",
    "    test_accuracy = accuracy_score(y_test, predict_test_class)\n",
    "    gini_score = 2 * test_auc - 1\n",
    "\n",
    "    # Calcular sensibilidad y especificidad\n",
    "    tn, fp, fn, tp = confusion_matrix(y_test, predict_test_class).ravel()\n",
    "    sensitivity = tp / (tp + fn)\n",
    "    specificity = tn / (tn + fp)\n",
    "\n",
    "    consolidated_results.append((full_model_name, train_auc, test_auc, test_accuracy, gini_score, sensitivity, specificity))\n",
    "\n",
    "# Ordenar los resultados por test_auc de mayor a menor y seleccionar el top 10\n",
    "consolidated_results.sort(key=lambda x: x[2], reverse=True)\n",
    "top_10_results = consolidated_results[:10]\n",
    "\n",
    "# Desempaquetar los resultados del top 10\n",
    "(top_10_names, top_10_train_aucs, top_10_test_aucs, \n",
    " top_10_accuracies, top_10_ginis, top_10_sensitivities, \n",
    " top_10_specificities) = zip(*top_10_results)\n",
    "\n",
    "# Primer gráfico: AUC (train, test) y Gini\n",
    "plt.figure(figsize=(14, 8))\n",
    "plt.plot(top_10_names, top_10_train_aucs, label='Training AUC', marker='o', color='skyblue')\n",
    "plt.plot(top_10_names, top_10_test_aucs, label='Testing AUC', marker='o', color='salmon')\n",
    "plt.plot(top_10_names, top_10_ginis, label='Testing Gini', marker='o', color='purple')\n",
    "\n",
    "# Añadir los valores a los puntos\n",
    "for i, txt in enumerate(top_10_train_aucs):\n",
    "    plt.annotate(f'{txt:.3f}', (top_10_names[i], top_10_train_aucs[i]), textcoords=\"offset points\", xytext=(0,10), ha='center', color='blue')\n",
    "for i, txt in enumerate(top_10_test_aucs):\n",
    "    plt.annotate(f'{txt:.3f}', (top_10_names[i], top_10_test_aucs[i]), textcoords=\"offset points\", xytext=(0,-15), ha='center', color='red')\n",
    "for i, txt in enumerate(top_10_ginis):\n",
    "    plt.annotate(f'{txt:.3f}', (top_10_names[i], top_10_ginis[i]), textcoords=\"offset points\", xytext=(0,-25), ha='center', color='purple')\n",
    "\n",
    "plt.xlabel('Modelos')\n",
    "plt.ylabel('Métricas')\n",
    "plt.title('Top 10 Models by Training AUC, Testing AUC, and Gini')\n",
    "plt.xticks(rotation=90)\n",
    "plt.legend()\n",
    "plt.grid(True)\n",
    "plt.tight_layout()\n",
    "plt.show()\n",
    "\n",
    "# Segundo gráfico: Sensibilidad, Especificidad y Accuracy\n",
    "plt.figure(figsize=(14, 8))\n",
    "plt.plot(top_10_names, top_10_sensitivities, label='Testing Sensitivity', marker='o', color='orange')\n",
    "plt.plot(top_10_names, top_10_specificities, label='Testing Specificity', marker='o', color='brown')\n",
    "plt.plot(top_10_names, top_10_accuracies, label='Testing Accuracy', marker='o', color='green')\n",
    "\n",
    "# Añadir los valores a los puntos\n",
    "for i, txt in enumerate(top_10_sensitivities):\n",
    "    plt.annotate(f'{txt:.3f}', (top_10_names[i], top_10_sensitivities[i]), textcoords=\"offset points\", xytext=(0,10), ha='center', color='orange')\n",
    "for i, txt in enumerate(top_10_specificities):\n",
    "    plt.annotate(f'{txt:.3f}', (top_10_names[i], top_10_specificities[i]), textcoords=\"offset points\", xytext=(0,-15), ha='center', color='brown')\n",
    "for i, txt in enumerate(top_10_accuracies):\n",
    "    plt.annotate(f'{txt:.3f}', (top_10_names[i], top_10_accuracies[i]), textcoords=\"offset points\", xytext=(0,10), ha='center', color='green')\n",
    "\n",
    "plt.xlabel('Modelos')\n",
    "plt.ylabel('Métricas')\n",
    "plt.title('Top 10 Models by Sensitivity, Specificity, and Testing Accuracy')\n",
    "plt.xticks(rotation=90)\n",
    "plt.legend()\n",
    "plt.grid(True)\n",
    "plt.tight_layout()\n",
    "plt.show()\n"
   ]
  }
 ],
 "metadata": {
  "kernelspec": {
   "display_name": "venv_notebooks",
   "language": "python",
   "name": "python3"
  },
  "language_info": {
   "codemirror_mode": {
    "name": "ipython",
    "version": 3
   },
   "file_extension": ".py",
   "mimetype": "text/x-python",
   "name": "python",
   "nbconvert_exporter": "python",
   "pygments_lexer": "ipython3",
   "version": "3.9.6"
  }
 },
 "nbformat": 4,
 "nbformat_minor": 2
}
