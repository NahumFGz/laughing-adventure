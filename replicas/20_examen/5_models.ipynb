{
 "cells": [
  {
   "cell_type": "code",
   "execution_count": 1,
   "metadata": {},
   "outputs": [],
   "source": [
    "import time\n",
    "import itertools\n",
    "import numpy as np\n",
    "import pandas as pd\n",
    "import seaborn as sns\n",
    "from utils.base_models import BaseModels\n",
    "from utils.numerical_scalers import NumericalScalers\n",
    "from utils.categorical_encoders import CategoricalEncoders\n",
    "\n",
    "from sklearn.model_selection import train_test_split\n",
    "from sklearn.metrics import confusion_matrix, accuracy_score, classification_report, roc_auc_score, ConfusionMatrixDisplay\n",
    "\n",
    "import matplotlib.pyplot as plt\n",
    "\n",
    "import warnings\n",
    "warnings.filterwarnings('ignore')"
   ]
  },
  {
   "cell_type": "markdown",
   "metadata": {},
   "source": [
    "### 1. Leer datos"
   ]
  },
  {
   "cell_type": "code",
   "execution_count": 2,
   "metadata": {},
   "outputs": [
    {
     "name": "stdout",
     "output_type": "stream",
     "text": [
      "(130560, 14)\n",
      "TARGET\n",
      "0    69943\n",
      "1    60617\n",
      "Name: count, dtype: int64\n"
     ]
    }
   ],
   "source": [
    "# 1. Leer el dataset\n",
    "dataset = pd.read_parquet('./data/2_data_preprocesada.parquet')\n",
    "dataset = dataset.drop(columns=['DF_TYPE'])\n",
    "\n",
    "# Seleccionar aleatoriamente el 10% de los datos\n",
    "dataset = dataset.sample(frac=0.1, random_state=42)\n",
    "print(dataset.shape)\n",
    "print(dataset['TARGET'].value_counts())"
   ]
  },
  {
   "cell_type": "markdown",
   "metadata": {},
   "source": [
    "### 2. Generar combinaciones de categóricos y numéricos"
   ]
  },
  {
   "cell_type": "code",
   "execution_count": 3,
   "metadata": {},
   "outputs": [],
   "source": [
    "# 2. Separar TARGET, df_categorical y df_numeric\n",
    "df_target = dataset['TARGET']\n",
    "df_categorical = dataset.select_dtypes(include=['object'])\n",
    "df_numeric = dataset.select_dtypes(include=['float64', 'int64'])\n",
    "\n",
    "# 3. Eliminar TARGET de df_numeric\n",
    "df_numeric = df_numeric.drop(columns=['TARGET'])"
   ]
  },
  {
   "cell_type": "code",
   "execution_count": 4,
   "metadata": {},
   "outputs": [
    {
     "name": "stdout",
     "output_type": "stream",
     "text": [
      "00 -> Encoder: LabelEncoder - Scaler: StandardScaler - Shape: (130560, 13)\n",
      "01 -> Encoder: LabelEncoder - Scaler: MinMaxScaler - Shape: (130560, 13)\n",
      "02 -> Encoder: LabelEncoder - Scaler: MaxAbsScaler - Shape: (130560, 13)\n",
      "03 -> Encoder: LabelEncoder - Scaler: RobustScaler - Shape: (130560, 13)\n",
      "04 -> Encoder: LabelEncoder - Scaler: Normalizer - Shape: (130560, 13)\n",
      "05 -> Encoder: LabelEncoder - Scaler: PowerTransformer - Shape: (130560, 13)\n",
      "06 -> Encoder: OneHotEncoder - Scaler: StandardScaler - Shape: (130560, 39)\n",
      "07 -> Encoder: OneHotEncoder - Scaler: MinMaxScaler - Shape: (130560, 39)\n",
      "08 -> Encoder: OneHotEncoder - Scaler: MaxAbsScaler - Shape: (130560, 39)\n",
      "09 -> Encoder: OneHotEncoder - Scaler: RobustScaler - Shape: (130560, 39)\n",
      "10 -> Encoder: OneHotEncoder - Scaler: Normalizer - Shape: (130560, 39)\n",
      "11 -> Encoder: OneHotEncoder - Scaler: PowerTransformer - Shape: (130560, 39)\n",
      "12 -> Encoder: OrdinalEncoder - Scaler: StandardScaler - Shape: (130560, 13)\n",
      "13 -> Encoder: OrdinalEncoder - Scaler: MinMaxScaler - Shape: (130560, 13)\n",
      "14 -> Encoder: OrdinalEncoder - Scaler: MaxAbsScaler - Shape: (130560, 13)\n",
      "15 -> Encoder: OrdinalEncoder - Scaler: RobustScaler - Shape: (130560, 13)\n",
      "16 -> Encoder: OrdinalEncoder - Scaler: Normalizer - Shape: (130560, 13)\n",
      "17 -> Encoder: OrdinalEncoder - Scaler: PowerTransformer - Shape: (130560, 13)\n",
      "18 -> Encoder: FrequencyEncoder - Scaler: StandardScaler - Shape: (130560, 13)\n",
      "19 -> Encoder: FrequencyEncoder - Scaler: MinMaxScaler - Shape: (130560, 13)\n",
      "20 -> Encoder: FrequencyEncoder - Scaler: MaxAbsScaler - Shape: (130560, 13)\n",
      "21 -> Encoder: FrequencyEncoder - Scaler: RobustScaler - Shape: (130560, 13)\n",
      "22 -> Encoder: FrequencyEncoder - Scaler: Normalizer - Shape: (130560, 13)\n",
      "23 -> Encoder: FrequencyEncoder - Scaler: PowerTransformer - Shape: (130560, 13)\n",
      "24 -> Encoder: BinaryEncoder - Scaler: StandardScaler - Shape: (130560, 24)\n",
      "25 -> Encoder: BinaryEncoder - Scaler: MinMaxScaler - Shape: (130560, 24)\n",
      "26 -> Encoder: BinaryEncoder - Scaler: MaxAbsScaler - Shape: (130560, 24)\n",
      "27 -> Encoder: BinaryEncoder - Scaler: RobustScaler - Shape: (130560, 24)\n",
      "28 -> Encoder: BinaryEncoder - Scaler: Normalizer - Shape: (130560, 24)\n",
      "29 -> Encoder: BinaryEncoder - Scaler: PowerTransformer - Shape: (130560, 24)\n",
      "30 -> Encoder: BackwardDifferenceEncoder - Scaler: StandardScaler - Shape: (130560, 40)\n",
      "31 -> Encoder: BackwardDifferenceEncoder - Scaler: MinMaxScaler - Shape: (130560, 40)\n",
      "32 -> Encoder: BackwardDifferenceEncoder - Scaler: MaxAbsScaler - Shape: (130560, 40)\n",
      "33 -> Encoder: BackwardDifferenceEncoder - Scaler: RobustScaler - Shape: (130560, 40)\n",
      "34 -> Encoder: BackwardDifferenceEncoder - Scaler: Normalizer - Shape: (130560, 40)\n",
      "35 -> Encoder: BackwardDifferenceEncoder - Scaler: PowerTransformer - Shape: (130560, 40)\n"
     ]
    }
   ],
   "source": [
    "# 4. Generar las combinaciones de Encoder y Scaler\n",
    "encoder_methods = ['LabelEncoder', 'OneHotEncoder', 'OrdinalEncoder', 'FrequencyEncoder', 'BinaryEncoder', 'BackwardDifferenceEncoder']\n",
    "scaler_methods = ['StandardScaler', 'MinMaxScaler', 'MaxAbsScaler', 'RobustScaler', 'Normalizer', 'PowerTransformer']\n",
    "\n",
    "# 5. Instanciar CategoricalEncoders\n",
    "categorical = CategoricalEncoders(dataset=df_categorical)\n",
    "binary_columns, categorical_columns = categorical.get_binary_categorical_columns()\n",
    "\n",
    "# 6. Instanciar NumericalScalers\n",
    "numerical = NumericalScalers(dataset=df_numeric)\n",
    "\n",
    "# 7. Generar todas las combinaciones de Encoder y Scaler\n",
    "def get_list_data_processed(encoder_methods, scaler_methods):\n",
    "    combinations = list(itertools.product(encoder_methods, scaler_methods))\n",
    "    \n",
    "    i=0\n",
    "    list_data_processed = []\n",
    "    for encoder_method, scaler_method in combinations:\n",
    "        data_encoded = categorical.provider(binary_columns, categorical_columns, method=encoder_method)\n",
    "        data_scaled = numerical.provider(method=scaler_method)\n",
    "\n",
    "        processed_data = pd.concat([data_encoded, data_scaled], axis=1)\n",
    "        list_data_processed.append((f'{encoder_method} - {scaler_method}', processed_data))\n",
    "        print(f'{str(i).zfill(2)} -> Encoder: {encoder_method} - Scaler: {scaler_method} - Shape: {processed_data.shape}')\n",
    "        i+=1\n",
    "    \n",
    "    return list_data_processed\n",
    "\n",
    "list_data_processed = get_list_data_processed(encoder_methods, scaler_methods)"
   ]
  },
  {
   "cell_type": "markdown",
   "metadata": {},
   "source": [
    "### 3. Split test y train de cada dataset"
   ]
  },
  {
   "cell_type": "code",
   "execution_count": 5,
   "metadata": {},
   "outputs": [
    {
     "name": "stdout",
     "output_type": "stream",
     "text": [
      "00 -> Split Encoded Scaler Method: LabelEncoder - StandardScaler\n",
      "01 -> Split Encoded Scaler Method: LabelEncoder - MinMaxScaler\n",
      "02 -> Split Encoded Scaler Method: LabelEncoder - MaxAbsScaler\n",
      "03 -> Split Encoded Scaler Method: LabelEncoder - RobustScaler\n",
      "04 -> Split Encoded Scaler Method: LabelEncoder - Normalizer\n",
      "05 -> Split Encoded Scaler Method: LabelEncoder - PowerTransformer\n",
      "06 -> Split Encoded Scaler Method: OneHotEncoder - StandardScaler\n",
      "07 -> Split Encoded Scaler Method: OneHotEncoder - MinMaxScaler\n",
      "08 -> Split Encoded Scaler Method: OneHotEncoder - MaxAbsScaler\n",
      "09 -> Split Encoded Scaler Method: OneHotEncoder - RobustScaler\n",
      "10 -> Split Encoded Scaler Method: OneHotEncoder - Normalizer\n",
      "11 -> Split Encoded Scaler Method: OneHotEncoder - PowerTransformer\n",
      "12 -> Split Encoded Scaler Method: OrdinalEncoder - StandardScaler\n",
      "13 -> Split Encoded Scaler Method: OrdinalEncoder - MinMaxScaler\n",
      "14 -> Split Encoded Scaler Method: OrdinalEncoder - MaxAbsScaler\n",
      "15 -> Split Encoded Scaler Method: OrdinalEncoder - RobustScaler\n",
      "16 -> Split Encoded Scaler Method: OrdinalEncoder - Normalizer\n",
      "17 -> Split Encoded Scaler Method: OrdinalEncoder - PowerTransformer\n",
      "18 -> Split Encoded Scaler Method: FrequencyEncoder - StandardScaler\n",
      "19 -> Split Encoded Scaler Method: FrequencyEncoder - MinMaxScaler\n",
      "20 -> Split Encoded Scaler Method: FrequencyEncoder - MaxAbsScaler\n",
      "21 -> Split Encoded Scaler Method: FrequencyEncoder - RobustScaler\n",
      "22 -> Split Encoded Scaler Method: FrequencyEncoder - Normalizer\n",
      "23 -> Split Encoded Scaler Method: FrequencyEncoder - PowerTransformer\n",
      "24 -> Split Encoded Scaler Method: BinaryEncoder - StandardScaler\n",
      "25 -> Split Encoded Scaler Method: BinaryEncoder - MinMaxScaler\n",
      "26 -> Split Encoded Scaler Method: BinaryEncoder - MaxAbsScaler\n",
      "27 -> Split Encoded Scaler Method: BinaryEncoder - RobustScaler\n",
      "28 -> Split Encoded Scaler Method: BinaryEncoder - Normalizer\n",
      "29 -> Split Encoded Scaler Method: BinaryEncoder - PowerTransformer\n",
      "30 -> Split Encoded Scaler Method: BackwardDifferenceEncoder - StandardScaler\n",
      "31 -> Split Encoded Scaler Method: BackwardDifferenceEncoder - MinMaxScaler\n",
      "32 -> Split Encoded Scaler Method: BackwardDifferenceEncoder - MaxAbsScaler\n",
      "33 -> Split Encoded Scaler Method: BackwardDifferenceEncoder - RobustScaler\n",
      "34 -> Split Encoded Scaler Method: BackwardDifferenceEncoder - Normalizer\n",
      "35 -> Split Encoded Scaler Method: BackwardDifferenceEncoder - PowerTransformer\n"
     ]
    }
   ],
   "source": [
    "# 4. Generar los conjuntos de entrenamiento y prueba\n",
    "def get_list_split_data(list_data_processed):\n",
    "    i=0\n",
    "    list_split_data = []\n",
    "    for encoded_scaler, data_processed in list_data_processed:\n",
    "        X = data_processed\n",
    "        y = df_target\n",
    "        \n",
    "        X_train, X_test, y_train, y_test = train_test_split(X, y, test_size=0.2, random_state=42, stratify=y)\n",
    "        list_split_data.append((encoded_scaler, X_train, X_test, y_train, y_test))\n",
    "        print(f'{str(i).zfill(2)} -> Split Encoded Scaler Method: {encoded_scaler}')\n",
    "        i+=1\n",
    "\n",
    "    return list_split_data\n",
    "\n",
    "list_split_data = get_list_split_data(list_data_processed)"
   ]
  },
  {
   "cell_type": "markdown",
   "metadata": {},
   "source": [
    "### 4. Entrenar con la lista de modelos"
   ]
  },
  {
   "cell_type": "code",
   "execution_count": 6,
   "metadata": {},
   "outputs": [
    {
     "name": "stdout",
     "output_type": "stream",
     "text": [
      "00 -> Model: logistic_regression\n",
      "Encoded Method: LabelEncoder - StandardScaler - AUC on training data with logistic_regression: 0.807\n",
      "AUC on testing data with logistic_regression: 0.807\n",
      "\n",
      "01 -> Model: decision_tree\n",
      "Encoded Method: LabelEncoder - StandardScaler - AUC on training data with decision_tree: 0.988\n",
      "AUC on testing data with decision_tree: 0.691\n",
      "\n",
      "02 -> Model: random_forest\n",
      "Encoded Method: LabelEncoder - StandardScaler - AUC on training data with random_forest: 0.975\n",
      "AUC on testing data with random_forest: 0.838\n",
      "\n",
      "03 -> Model: gradient_boosting\n",
      "Encoded Method: LabelEncoder - StandardScaler - AUC on training data with gradient_boosting: 0.844\n",
      "AUC on testing data with gradient_boosting: 0.842\n",
      "\n"
     ]
    },
    {
     "ename": "",
     "evalue": "",
     "output_type": "error",
     "traceback": [
      "\u001b[1;31mCannot execute code, session has been disposed. Please try restarting the Kernel."
     ]
    },
    {
     "ename": "",
     "evalue": "",
     "output_type": "error",
     "traceback": [
      "\u001b[1;31mCannot execute code, session has been disposed. Please try restarting the Kernel. \n",
      "\u001b[1;31mView Jupyter <a href='command:jupyter.viewOutput'>log</a> for further details."
     ]
    }
   ],
   "source": [
    "# Inicializar BaseModels y definir los nombres de los modelos\n",
    "base_models = BaseModels()\n",
    "name_models = ['logistic_regression', 'decision_tree', 'random_forest',\n",
    "               'gradient_boosting', 'svm', 'knn', 'naive_bayes',\n",
    "               'mlp', 'lgmb', 'catboost', 'xgboost']\n",
    "\n",
    "# Iterar sobre los conjuntos de datos codificados\n",
    "i = 0\n",
    "all_results = []\n",
    "for encoded_scalar_method, X_train, X_test, y_train, y_test in list_split_data:\n",
    "    for name in name_models:\n",
    "        model = base_models.provider(name)\n",
    "        \n",
    "        start_time = time.time()\n",
    "        model.fit(X_train, y_train)\n",
    "        end_time = time.time()\n",
    "        \n",
    "        elapsed_time = end_time - start_time\n",
    "        \n",
    "        predict_train = model.predict_proba(X_train)[:, 1]\n",
    "        predict_test = model.predict_proba(X_test)[:, 1]\n",
    "        predict_test_class = model.predict(X_test)\n",
    "\n",
    "        train_auc = roc_auc_score(y_train, predict_train)\n",
    "        test_auc = roc_auc_score(y_test, predict_test)\n",
    "\n",
    "        all_results.append((encoded_scalar_method, name, train_auc, test_auc, y_test, predict_test, predict_test_class))\n",
    "\n",
    "        print(f'{str(i).zfill(2)} -> Model: {name}')\n",
    "        print(f\"Encoded Method: {encoded_scalar_method} - AUC on training data with {name}: {train_auc:.3f}\")\n",
    "        print(f\"AUC on testing data with {name}: {test_auc:.3f}\")\n",
    "        print(f\"Training time for {name}: {elapsed_time:.3f} seconds\\n\")\n",
    "        i += 1\n"
   ]
  },
  {
   "cell_type": "markdown",
   "metadata": {},
   "source": [
    "### 5. Graficar resultados"
   ]
  },
  {
   "cell_type": "code",
   "execution_count": null,
   "metadata": {},
   "outputs": [],
   "source": [
    "def print_plot_results(all_results, index):\n",
    "    encoded_scalar_method, name, _, _, y_test, predict_test, predict_test_class = all_results[index]\n",
    "\n",
    "    conf_matrix = confusion_matrix(y_test, predict_test_class)\n",
    "    class_report = classification_report(y_test, predict_test_class)\n",
    "    auc_score = roc_auc_score(y_test, predict_test)\n",
    "    accuracy = accuracy_score(y_test, predict_test_class)\n",
    "    gini_score = 2 * auc_score - 1\n",
    "\n",
    "    # Print metrics and classification report\n",
    "    print(f\"Model: {name} - Encoded Scalar method {encoded_scalar_method}\")\n",
    "    print(f\"AUC Score:\\t{auc_score:.3f}\")\n",
    "    print(f\"Gini Score:\\t{gini_score:.3f}\")\n",
    "    print(f\"Accuracy:\\t{accuracy:.3f}\")\n",
    "    print(f\"Classification Report:\\n{class_report}\")\n",
    "\n",
    "    # Crear subplots 1x2\n",
    "    fig, ax = plt.subplots(1, 2, figsize=(6, 3))\n",
    "\n",
    "    # Plot confusion matrix with absolute values\n",
    "    sns.heatmap(conf_matrix, annot=True, fmt=\"d\", cmap='Blues', cbar=False, ax=ax[0])\n",
    "    ax[0].set_xlabel('Predicted Label')\n",
    "    ax[0].set_ylabel('True Label')\n",
    "    ax[0].set_title('Absolute Values')\n",
    "\n",
    "    # Plot confusion matrix with percentages\n",
    "    conf_matrix_percent = conf_matrix / conf_matrix.sum(axis=1)[:, np.newaxis] * 100\n",
    "    sns.heatmap(conf_matrix_percent, annot=True, fmt=\".2f\", cmap='Blues', cbar=False, ax=ax[1])\n",
    "    ax[1].set_xlabel('Predicted Label')\n",
    "    ax[1].set_ylabel('True Label')\n",
    "    ax[1].set_title('Percentages')\n",
    "\n",
    "    # Mostrar los gráficos\n",
    "    plt.tight_layout()\n",
    "    plt.show()"
   ]
  },
  {
   "cell_type": "code",
   "execution_count": null,
   "metadata": {},
   "outputs": [],
   "source": [
    "print_plot_results(all_results, 1)"
   ]
  },
  {
   "cell_type": "code",
   "execution_count": null,
   "metadata": {},
   "outputs": [],
   "source": [
    "import matplotlib.pyplot as plt\n",
    "from sklearn.metrics import accuracy_score, roc_auc_score\n",
    "\n",
    "# Consolidar todos los resultados en una lista\n",
    "consolidated_results = []\n",
    "for encoded_scalar_method, name, train_auc, test_auc, y_test, predict_test, predict_test_class in all_results:\n",
    "    full_model_name = f\"{encoded_scalar_method} - {name}\"\n",
    "    test_accuracy = accuracy_score(y_test, predict_test_class)\n",
    "    gini_score = 2 * test_auc - 1\n",
    "    consolidated_results.append((full_model_name, train_auc, test_auc, test_accuracy, gini_score))\n",
    "\n",
    "# Ordenar los resultados por test_auc de mayor a menor y seleccionar el top 10\n",
    "consolidated_results.sort(key=lambda x: x[2], reverse=False)\n",
    "top_10_results = consolidated_results[-10:]\n",
    "\n",
    "# Desempaquetar los resultados del top 10\n",
    "top_10_names, top_10_train_aucs, top_10_test_aucs, top_10_accuracies, top_10_ginis = zip(*top_10_results)\n",
    "\n",
    "plt.figure(figsize=(14, 8))\n",
    "\n",
    "# Gráfico de líneas para el top 10\n",
    "plt.plot(top_10_names, top_10_train_aucs, label='Training AUC', marker='o', color='skyblue')\n",
    "plt.plot(top_10_names, top_10_test_aucs, label='Testing AUC', marker='o', color='salmon')\n",
    "plt.plot(top_10_names, top_10_accuracies, label='Testing Accuracy', marker='o', color='green')\n",
    "plt.plot(top_10_names, top_10_ginis, label='Testing Gini', marker='o', color='purple')\n",
    "\n",
    "# Añadir los valores a los puntos\n",
    "for i, txt in enumerate(top_10_train_aucs):\n",
    "    plt.annotate(f'{txt:.3f}', (top_10_names[i], top_10_train_aucs[i]), textcoords=\"offset points\", xytext=(0,10), ha='center', color='blue')\n",
    "for i, txt in enumerate(top_10_test_aucs):\n",
    "    plt.annotate(f'{txt:.3f}', (top_10_names[i], top_10_test_aucs[i]), textcoords=\"offset points\", xytext=(0,-15), ha='center', color='red')\n",
    "for i, txt in enumerate(top_10_accuracies):\n",
    "    plt.annotate(f'{txt:.3f}', (top_10_names[i], top_10_accuracies[i]), textcoords=\"offset points\", xytext=(0,10), ha='center', color='green')\n",
    "for i, txt in enumerate(top_10_ginis):\n",
    "    plt.annotate(f'{txt:.3f}', (top_10_names[i], top_10_ginis[i]), textcoords=\"offset points\", xytext=(0,-25), ha='center', color='purple')\n",
    "\n",
    "plt.xlabel('Modelos')\n",
    "plt.ylabel('Métricas')\n",
    "plt.title('Top 10 Models by Testing AUC, Accuracy, and Gini')\n",
    "plt.xticks(rotation=90)\n",
    "plt.legend()\n",
    "plt.grid(True)\n",
    "plt.tight_layout()\n",
    "plt.show()\n"
   ]
  },
  {
   "cell_type": "code",
   "execution_count": null,
   "metadata": {},
   "outputs": [],
   "source": []
  },
  {
   "cell_type": "code",
   "execution_count": null,
   "metadata": {},
   "outputs": [],
   "source": []
  },
  {
   "cell_type": "code",
   "execution_count": null,
   "metadata": {},
   "outputs": [],
   "source": []
  }
 ],
 "metadata": {
  "kernelspec": {
   "display_name": "venv_notebooks",
   "language": "python",
   "name": "python3"
  },
  "language_info": {
   "codemirror_mode": {
    "name": "ipython",
    "version": 3
   },
   "file_extension": ".py",
   "mimetype": "text/x-python",
   "name": "python",
   "nbconvert_exporter": "python",
   "pygments_lexer": "ipython3",
   "version": "3.9.6"
  }
 },
 "nbformat": 4,
 "nbformat_minor": 2
}
