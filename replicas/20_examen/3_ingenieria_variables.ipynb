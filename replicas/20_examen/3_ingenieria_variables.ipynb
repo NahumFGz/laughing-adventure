{
 "cells": [
  {
   "cell_type": "markdown",
   "metadata": {},
   "source": [
    "## Ingeniería de variables"
   ]
  },
  {
   "cell_type": "code",
   "execution_count": null,
   "metadata": {},
   "outputs": [],
   "source": [
    "import numpy as np\n",
    "import pandas as pd\n",
    "import seaborn as sns\n",
    "import matplotlib.pyplot as plt\n",
    "from sklearn.impute import KNNImputer, IterativeImputer\n",
    "from sklearn.linear_model import LinearRegression\n",
    "from sklearn.experimental import enable_iterative_imputer"
   ]
  },
  {
   "cell_type": "code",
   "execution_count": null,
   "metadata": {},
   "outputs": [],
   "source": [
    "def plot_percent_cols(df, li=25, lm=50, ls=75):\n",
    "    # Calcular los porcentajes de datos nulos y no nulos\n",
    "    null_percent = df.isnull().mean() * 100\n",
    "    not_null_percent = 100 - null_percent\n",
    "\n",
    "    # Crear la figura y el eje con un tamaño específico\n",
    "    fig, ax = plt.subplots(figsize=(10, 6))\n",
    "\n",
    "    # Crear el gráfico de barras acumulado\n",
    "    ax.bar(df.columns, not_null_percent, label='Not Null')\n",
    "    ax.bar(df.columns, null_percent, bottom=not_null_percent, label='Null')\n",
    "\n",
    "    # Agregar las líneas horizontales\n",
    "    ax.axhline(li, color='r', linestyle='--')\n",
    "    ax.axhline(lm, color='g', linestyle='--')\n",
    "    ax.axhline(ls, color='b', linestyle='--')\n",
    "\n",
    "    # Agregar la leyenda\n",
    "    ax.legend()\n",
    "\n",
    "    # Agregar títulos\n",
    "    plt.title('Porcentaje de datos nulos y no nulos por columna')\n",
    "\n",
    "    # Mostrar el gráfico\n",
    "    plt.xticks(rotation=90)\n",
    "    plt.show()"
   ]
  },
  {
   "cell_type": "markdown",
   "metadata": {},
   "source": [
    "### 1. Leer los datos"
   ]
  },
  {
   "cell_type": "code",
   "execution_count": null,
   "metadata": {},
   "outputs": [],
   "source": [
    "df = pd.read_parquet('./data/1_data_exploracion_datos.parquet')\n",
    "plot_percent_cols(df)"
   ]
  },
  {
   "cell_type": "markdown",
   "metadata": {},
   "source": [
    "### 2. Limpieza general de datos"
   ]
  },
  {
   "cell_type": "code",
   "execution_count": null,
   "metadata": {},
   "outputs": [],
   "source": [
    "# Eliminar las columnas con más del 50% de datos nulos\n",
    "df = df.dropna(thresh=df.shape[0]*0.5, axis=1)\n",
    "plot_percent_cols(df, li=70, lm=80, ls=90)"
   ]
  },
  {
   "cell_type": "markdown",
   "metadata": {},
   "source": [
    "### 3. Limpieza y tratamiento de datos categóricos"
   ]
  },
  {
   "cell_type": "code",
   "execution_count": null,
   "metadata": {},
   "outputs": [],
   "source": [
    "# Seleccionar las columnas con datos categoricos\n",
    "df_cat = df.select_dtypes(include=['object'])\n",
    "plot_percent_cols(df_cat, li=70, lm=80, ls=90)"
   ]
  },
  {
   "cell_type": "code",
   "execution_count": null,
   "metadata": {},
   "outputs": [],
   "source": [
    "# Eliminar la columna PROVINCIA, FEC_LLAMADA y DF_TYPE\n",
    "df_cat = df_cat.drop(columns=['PROVINCIA', 'FEC_LLAMADA', 'DF_TYPE'])\n",
    "print('Eliminando columnas PROVINCIA, FEC_LLAMADA y DF_TYPE')"
   ]
  },
  {
   "cell_type": "code",
   "execution_count": null,
   "metadata": {},
   "outputs": [],
   "source": [
    "# Reducir a 2 categorias la columna DEPARTAMENTO\n",
    "df_cat['DEPARTAMENTO'] = df_cat['DEPARTAMENTO'].apply(lambda x: 'FUERA DE LIMA' if x != 'LIMA' else x)\n",
    "print(df_cat['DEPARTAMENTO'].value_counts(dropna=False, normalize=True))"
   ]
  },
  {
   "cell_type": "code",
   "execution_count": null,
   "metadata": {},
   "outputs": [],
   "source": [
    "# Crear categoría \"SIN DATOS\" para FBK_ULT6, FBK_ULT12, FBK_BEST6, FBK_BEST12\n",
    "df_cat['FBK_ULT6'] = df_cat['FBK_ULT6'].fillna('SIN DATOS')\n",
    "df_cat['FBK_ULT12'] = df_cat['FBK_ULT12'].fillna('SIN DATOS')\n",
    "df_cat['FBK_BEST6'] = df_cat['FBK_BEST6'].fillna('SIN DATOS')\n",
    "df_cat['FBK_BEST12'] = df_cat['FBK_BEST12'].fillna('SIN DATOS')"
   ]
  },
  {
   "cell_type": "code",
   "execution_count": null,
   "metadata": {},
   "outputs": [],
   "source": [
    "# Imputar moda para la columna COD_SALA con datos nulos\n",
    "df_cat['COD_SALA'] = df_cat['COD_SALA'].fillna(df_cat['COD_SALA'].mode()[0])\n",
    "print(df_cat['COD_SALA'].value_counts(dropna=False, normalize=True))"
   ]
  },
  {
   "cell_type": "code",
   "execution_count": null,
   "metadata": {},
   "outputs": [],
   "source": [
    "# Imputar moda para la columna SEGMENTO con datos nulos\n",
    "df_cat['SEGMENTO'] = df_cat['SEGMENTO'].fillna(df_cat['SEGMENTO'].mode()[0])\n",
    "print(df_cat['SEGMENTO'].value_counts(dropna=False, normalize=True))"
   ]
  },
  {
   "cell_type": "code",
   "execution_count": null,
   "metadata": {},
   "outputs": [],
   "source": [
    "# Imputar moda para la columna RANGO_INGRESOS con datos nulos\n",
    "df_cat['RANGO_INGRESOS'] = df_cat['RANGO_INGRESOS'].fillna(df_cat['RANGO_INGRESOS'].mode()[0])\n",
    "print(df_cat['RANGO_INGRESOS'].value_counts(dropna=False, normalize=True))"
   ]
  },
  {
   "cell_type": "code",
   "execution_count": null,
   "metadata": {},
   "outputs": [],
   "source": [
    "# Eliminar FBK_ULT6, FBK_BEST6\n",
    "df_cat = df_cat.drop(columns=['FBK_ULT6', 'FBK_BEST6'])\n",
    "print('Eliminando columnas')"
   ]
  },
  {
   "cell_type": "code",
   "execution_count": null,
   "metadata": {},
   "outputs": [],
   "source": [
    "sns.heatmap(df_cat.isnull(), cbar=False)"
   ]
  },
  {
   "cell_type": "code",
   "execution_count": null,
   "metadata": {},
   "outputs": [],
   "source": [
    "df.shape[0] == df_cat.shape[0]"
   ]
  },
  {
   "cell_type": "markdown",
   "metadata": {},
   "source": [
    "#### 4. Limpieza y tratamiendo de datos numéricos"
   ]
  },
  {
   "cell_type": "code",
   "execution_count": null,
   "metadata": {},
   "outputs": [],
   "source": [
    "# Seleccionar las columnas con datos númericos\n",
    "df_num = df.select_dtypes(include=['float64', 'int64'])"
   ]
  },
  {
   "cell_type": "code",
   "execution_count": null,
   "metadata": {},
   "outputs": [],
   "source": [
    "# Eliminar columnas\n",
    "df_num = df_num.drop(columns=['IDGRUPO', 'INGRESO_BRUTO', 'INGRESO_NETO_VIGENTE', 'TARGET', 'DIAS_ACT'])\n",
    "print('Eliminando columnas')"
   ]
  },
  {
   "cell_type": "code",
   "execution_count": null,
   "metadata": {},
   "outputs": [],
   "source": [
    "plot_percent_cols(df_num, li=55, lm=60, ls=70)"
   ]
  },
  {
   "cell_type": "code",
   "execution_count": null,
   "metadata": {},
   "outputs": [],
   "source": [
    "# Graficar la correlación de columnas númericas\n",
    "plt.figure(figsize=(10, 6))\n",
    "sns.heatmap(df_num.corr(), annot=True, cmap='coolwarm')"
   ]
  },
  {
   "cell_type": "code",
   "execution_count": null,
   "metadata": {},
   "outputs": [],
   "source": [
    "# Eliminar columnas con correlación mayor a 0.9\n",
    "corr = df_num.corr().abs()\n",
    "upper = corr.where(np.triu(np.ones(corr.shape), k=1).astype(bool))\n",
    "to_drop = [column for column in upper.columns if any(upper[column] > 0.90)]\n",
    "df_num = df_num.drop(columns=to_drop)\n",
    "print('Eliminando columnas')"
   ]
  },
  {
   "cell_type": "code",
   "execution_count": null,
   "metadata": {},
   "outputs": [],
   "source": [
    "plt.figure(figsize=(10, 6))\n",
    "sns.heatmap(df_num.corr(), annot=True, cmap='coolwarm')"
   ]
  },
  {
   "cell_type": "code",
   "execution_count": null,
   "metadata": {},
   "outputs": [],
   "source": [
    "plot_percent_cols(df_num, li=55, lm=60, ls=70)"
   ]
  },
  {
   "cell_type": "code",
   "execution_count": null,
   "metadata": {},
   "outputs": [],
   "source": [
    "# Eliminar DIAS_BEST6\n",
    "df_num = df_num.drop(columns=['DIAS_BEST6'])\n",
    "plot_percent_cols(df_num, li=55, lm=60, ls=70)"
   ]
  },
  {
   "cell_type": "code",
   "execution_count": null,
   "metadata": {},
   "outputs": [],
   "source": [
    "# NC_DIAS6: Imputar la mediana\n",
    "df_num['NC_DIAS6'] = df_num['NC_DIAS6'].fillna(df_num['NC_DIAS6'].median())\n",
    "plot_percent_cols(df_num, li=55, lm=60, ls=70)"
   ]
  },
  {
   "cell_type": "code",
   "execution_count": null,
   "metadata": {},
   "outputs": [],
   "source": [
    "# NC_CTD12: Imputar la mediana\n",
    "df_num['NC_CTD12'] = df_num['NC_CTD12'].fillna(df_num['NC_CTD12'].median())\n",
    "plot_percent_cols(df_num, li=55, lm=60, ls=70)"
   ]
  },
  {
   "cell_type": "code",
   "execution_count": null,
   "metadata": {},
   "outputs": [],
   "source": [
    "# DIAS_BEST12: Imputar con KNNImputer\n",
    "imputer = KNNImputer(n_neighbors=5)\n",
    "df_num['DIAS_BEST12'] = imputer.fit_transform(df_num[['DIAS_BEST12']])\n",
    "plot_percent_cols(df_num, li=55, lm=60, ls=70)"
   ]
  },
  {
   "cell_type": "code",
   "execution_count": null,
   "metadata": {},
   "outputs": [],
   "source": []
  },
  {
   "cell_type": "code",
   "execution_count": null,
   "metadata": {},
   "outputs": [],
   "source": []
  },
  {
   "cell_type": "code",
   "execution_count": null,
   "metadata": {},
   "outputs": [],
   "source": []
  }
 ],
 "metadata": {
  "kernelspec": {
   "display_name": "Python 3 (ipykernel)",
   "language": "python",
   "name": "python3"
  },
  "language_info": {
   "codemirror_mode": {
    "name": "ipython",
    "version": 3
   },
   "file_extension": ".py",
   "mimetype": "text/x-python",
   "name": "python",
   "nbconvert_exporter": "python",
   "pygments_lexer": "ipython3",
   "version": "3.9.6"
  }
 },
 "nbformat": 4,
 "nbformat_minor": 4
}
