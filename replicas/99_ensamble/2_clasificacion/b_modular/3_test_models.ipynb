{
 "cells": [
  {
   "cell_type": "code",
   "execution_count": 18,
   "metadata": {},
   "outputs": [],
   "source": [
    "import pandas as pd\n",
    "from utils.categorical_encoders import CategoricalEncoders\n",
    "\n",
    "from sklearn.model_selection import train_test_split\n",
    "from sklearn.metrics import roc_auc_score\n",
    "from sklearn.metrics import accuracy_score\n",
    "\n",
    "import matplotlib.pyplot as plt\n",
    "\n",
    "import warnings\n",
    "warnings.filterwarnings('ignore')"
   ]
  },
  {
   "cell_type": "code",
   "execution_count": 15,
   "metadata": {},
   "outputs": [
    {
     "name": "stdout",
     "output_type": "stream",
     "text": [
      "Target\n",
      "0    8137\n",
      "1     363\n",
      "Name: count, dtype: int64\n",
      "Target\n",
      "0    0.957294\n",
      "1    0.042706\n",
      "Name: proportion, dtype: float64\n"
     ]
    }
   ],
   "source": [
    "# 1. Leer el dataset\n",
    "DATASET_PATH = 'data/dataset.csv'\n",
    "dataset = pd.read_csv(DATASET_PATH, encoding='latin-1' ,sep=';')\n",
    "print(dataset['Target'].value_counts())\n",
    "print(dataset['Target'].value_counts(normalize=True))"
   ]
  },
  {
   "cell_type": "code",
   "execution_count": 16,
   "metadata": {},
   "outputs": [
    {
     "name": "stdout",
     "output_type": "stream",
     "text": [
      "Target\n",
      "0    6103\n",
      "1     272\n",
      "Name: count, dtype: int64\n",
      "Target\n",
      "0    2034\n",
      "1      91\n",
      "Name: count, dtype: int64\n"
     ]
    }
   ],
   "source": [
    "# 2. Obtener las columnas binarias y categóricas\n",
    "categorical = CategoricalEncoders(dataset=dataset)\n",
    "binary_columns, categorical_columns = categorical.get_binary_categorical_columns()\n",
    "\n",
    "# 3. Aplicar categorical encoders\n",
    "methods = ['LabelEncoder', 'OneHotEncoder', 'OrdinalEncoder', 'FrequencyEncoder', 'BinaryEncoder', 'BackwardDifferenceEncoder']\n",
    "data_encoded = categorical.provider(binary_columns, categorical_columns, method=methods[0])\n",
    "\n",
    "# 4. Dividir el dataset en train y test\n",
    "X,y = data_encoded.drop(['Target'], axis=1),data_encoded[[\"Target\"]]\n",
    "X_train, X_test, y_train, y_test = train_test_split(X, y, test_size=0.25, random_state=42, stratify=y)\n",
    "print(y_train['Target'].value_counts())\n",
    "print(y_test['Target'].value_counts())"
   ]
  },
  {
   "cell_type": "code",
   "execution_count": 20,
   "metadata": {},
   "outputs": [
    {
     "name": "stdout",
     "output_type": "stream",
     "text": [
      "auc on training in LogisticRegression data : 0.726\n",
      "auc on testing in LogisticRegression  data : 0.711\n"
     ]
    }
   ],
   "source": [
    "# 5. Entrenar modelos\n",
    "from utils.base_models import BaseModels\n",
    "\n",
    "base_models = BaseModels()\n",
    "name_models = ['logistic_regression', 'decision_tree', 'random_forest',\n",
    "               'gradient_boosting', 'svm', 'knn', 'naive_bayes', 'mlp',\n",
    "               'lgbm','catboost', 'xgboost']\n",
    "\n",
    "model = base_models.provider(name_models[0])\n",
    "model.fit(X_train, y_train)\n",
    "\n",
    "predict_train = model.predict_proba(X_train)[:,1]\n",
    "predict_test = model.predict_proba(X_test)[:,1]\n",
    "\n",
    "\n",
    "print(\"auc on training in LogisticRegression data : {:.3f}\"\n",
    "      .format(roc_auc_score(y_train, predict_train) ))\n",
    "print(\"auc on testing in LogisticRegression  data : {:.3f}\"\n",
    "      .format(roc_auc_score(y_test, predict_test) ))"
   ]
  },
  {
   "cell_type": "code",
   "execution_count": null,
   "metadata": {},
   "outputs": [],
   "source": []
  },
  {
   "cell_type": "code",
   "execution_count": null,
   "metadata": {},
   "outputs": [],
   "source": []
  }
 ],
 "metadata": {
  "kernelspec": {
   "display_name": "venv_notebooks",
   "language": "python",
   "name": "python3"
  },
  "language_info": {
   "codemirror_mode": {
    "name": "ipython",
    "version": 3
   },
   "file_extension": ".py",
   "mimetype": "text/x-python",
   "name": "python",
   "nbconvert_exporter": "python",
   "pygments_lexer": "ipython3",
   "version": "3.9.6"
  }
 },
 "nbformat": 4,
 "nbformat_minor": 2
}
